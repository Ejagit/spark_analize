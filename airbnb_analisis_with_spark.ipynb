{
 "cells": [
  {
   "cell_type": "code",
   "execution_count": 2,
   "metadata": {},
   "outputs": [
    {
     "name": "stdout",
     "output_type": "stream",
     "text": [
      "Collecting pyspark==2.3.4\r\n",
      "\u001b[?25l  Downloading https://files.pythonhosted.org/packages/7d/0f/6ae297667dad605a3bccc5581a4a7e3b4e409235b17b6e91f1d80ba8a04a/pyspark-2.3.4.tar.gz (212.3MB)\r\n",
      "\u001b[K     |████████████████████████████████| 212.3MB 113kB/s \r\n",
      "\u001b[?25hCollecting py4j==0.10.7 (from pyspark==2.3.4)\r\n",
      "\u001b[?25l  Downloading https://files.pythonhosted.org/packages/e3/53/c737818eb9a7dc32a7cd4f1396e787bd94200c3997c72c1dbe028587bd76/py4j-0.10.7-py2.py3-none-any.whl (197kB)\r\n",
      "\u001b[K     |████████████████████████████████| 204kB 23.0MB/s \r\n",
      "\u001b[?25hBuilding wheels for collected packages: pyspark\r\n",
      "  Building wheel for pyspark (setup.py) ... \u001b[?25l-\b \b\\\b \b|\b \b/\b \b-\b \b\\\b \b|\b \b/\b \b-\b \b\\\b \b|\b \b/\b \b-\b \b\\\b \b|\b \b/\b \b-\b \b\\\b \b|\b \b/\b \b-\b \b\\\b \b|\b \b/\b \b-\b \b\\\b \b|\b \b/\b \b-\b \b\\\b \b|\b \b/\b \b-\b \b\\\b \b|\b \b/\b \b-\b \b\\\b \b|\b \b/\b \b-\b \b\\\b \b|\b \b/\b \b-\b \b\\\b \b|\b \b/\b \b-\b \b\\\b \b|\b \b/\b \b-\b \b\\\b \b|\b \b/\b \b-\b \b\\\b \b|\b \b/\b \b-\b \b\\\b \bdone\r\n",
      "\u001b[?25h  Created wheel for pyspark: filename=pyspark-2.3.4-py2.py3-none-any.whl size=212743675 sha256=01917c10c6c45d5b2618648703cba3ab9bc382e14649de337302431ac296071f\r\n",
      "  Stored in directory: /tmp/.cache/pip/wheels/28/43/b9/dd30cad8012aa654f5688534e626e6f8b262d4425bb3530fb1\r\n",
      "Successfully built pyspark\r\n",
      "Installing collected packages: py4j, pyspark\r\n",
      "Successfully installed py4j-0.10.7 pyspark-2.3.4\r\n"
     ]
    }
   ],
   "source": [
    "import numpy as np # linear algebra\n",
    "import pandas as pd # data processing, CSV file I/O (e.g. pd.read_csv)\n",
    "import pandas_profiling\n",
    "#installing pyspark version 2.3.4\n",
    "!pip install pyspark==2.3.4"
   ]
  },
  {
   "cell_type": "markdown",
   "metadata": {
    "colab_type": "text",
    "id": "IOpoRIEFvmV6"
   },
   "source": [
    "**Reading CSV file into spark dataframe.**"
   ]
  },
  {
   "cell_type": "code",
   "execution_count": 3,
   "metadata": {
    "colab": {},
    "colab_type": "code",
    "id": "p1IZxoi7AsEa"
   },
   "outputs": [],
   "source": [
    "import pyspark"
   ]
  },
  {
   "cell_type": "code",
   "execution_count": 4,
   "metadata": {
    "colab": {},
    "colab_type": "code",
    "id": "paoGhwt2uX1a"
   },
   "outputs": [],
   "source": [
    "from pyspark import SparkContext"
   ]
  },
  {
   "cell_type": "code",
   "execution_count": 5,
   "metadata": {
    "colab": {},
    "colab_type": "code",
    "id": "2U0RJUPmuxcA"
   },
   "outputs": [],
   "source": [
    "#Starting SparkContext\n",
    "sc = SparkContext(\"local\",\"jagmeet\")"
   ]
  },
  {
   "cell_type": "code",
   "execution_count": 6,
   "metadata": {
    "colab": {},
    "colab_type": "code",
    "id": "r_ArVTCxxkkQ"
   },
   "outputs": [],
   "source": [
    "sqlContext = pyspark.SQLContext(sc)"
   ]
  },
  {
   "cell_type": "code",
   "execution_count": 7,
   "metadata": {},
   "outputs": [
    {
     "data": {
      "text/plain": [
       "'2.3.4'"
      ]
     },
     "execution_count": 7,
     "metadata": {},
     "output_type": "execute_result"
    }
   ],
   "source": [
    "sc.version"
   ]
  },
  {
   "cell_type": "code",
   "execution_count": 8,
   "metadata": {
    "colab": {},
    "colab_type": "code",
    "id": "UtjxPdh0AIw5"
   },
   "outputs": [],
   "source": [
    "from pyspark.sql.types import *"
   ]
  },
  {
   "cell_type": "code",
   "execution_count": 9,
   "metadata": {
    "colab": {},
    "colab_type": "code",
    "id": "jXgLysMW_8Fn"
   },
   "outputs": [],
   "source": [
    "#Defining own schema\n",
    "#This is done so that there would not be any conflict between datatypes\n",
    "data_schema = [StructField('id', IntegerType(), True), \n",
    "               StructField('name', StringType(), True),\n",
    "               StructField('host_id', IntegerType(), True),\n",
    "               StructField('host_name', StringType(), True),\n",
    "               StructField('neighbourhood_group', StringType(), True),\n",
    "               StructField('neighbourhood', StringType(), True),\n",
    "               StructField('latitude', FloatType(), True),\n",
    "               StructField('longitude', FloatType(), True),\n",
    "               StructField('room_type', StringType(), True),\n",
    "               StructField('price', IntegerType(), True),\n",
    "               StructField('minimum_nights', IntegerType(), True),\n",
    "               StructField('number_of_reviews', IntegerType(), True),\n",
    "               StructField('last_review', DateType(), True),\n",
    "               StructField('reviews_per_month', FloatType(), True),\n",
    "               StructField('calculated_host_listings_count', IntegerType(), True),\n",
    "               StructField('availability_365', IntegerType(), True),\n",
    "              ]"
   ]
  },
  {
   "cell_type": "code",
   "execution_count": 10,
   "metadata": {
    "colab": {},
    "colab_type": "code",
    "id": "EG6fM1DVAAA3"
   },
   "outputs": [],
   "source": [
    "final_struc = StructType(data_schema)"
   ]
  },
  {
   "cell_type": "code",
   "execution_count": 11,
   "metadata": {
    "colab": {},
    "colab_type": "code",
    "id": "sbG5vSW6AEjy"
   },
   "outputs": [],
   "source": [
    "#Reading csv file into spark dataframe using our schema \n",
    "df = sqlContext.read.csv('/kaggle/input/new-york-city-airbnb-open-data/AB_NYC_2019.csv', header = True,schema = final_struc,mode=\"DROPMALFORMED\")"
   ]
  },
  {
   "cell_type": "code",
   "execution_count": 12,
   "metadata": {
    "colab": {
     "base_uri": "https://localhost:8080/",
     "height": 336
    },
    "colab_type": "code",
    "id": "831mmXfCyLC_",
    "outputId": "85f60fe6-abbb-4048-e460-1685d7723e5b"
   },
   "outputs": [
    {
     "name": "stdout",
     "output_type": "stream",
     "text": [
      "root\n",
      " |-- id: integer (nullable = true)\n",
      " |-- name: string (nullable = true)\n",
      " |-- host_id: integer (nullable = true)\n",
      " |-- host_name: string (nullable = true)\n",
      " |-- neighbourhood_group: string (nullable = true)\n",
      " |-- neighbourhood: string (nullable = true)\n",
      " |-- latitude: float (nullable = true)\n",
      " |-- longitude: float (nullable = true)\n",
      " |-- room_type: string (nullable = true)\n",
      " |-- price: integer (nullable = true)\n",
      " |-- minimum_nights: integer (nullable = true)\n",
      " |-- number_of_reviews: integer (nullable = true)\n",
      " |-- last_review: date (nullable = true)\n",
      " |-- reviews_per_month: float (nullable = true)\n",
      " |-- calculated_host_listings_count: integer (nullable = true)\n",
      " |-- availability_365: integer (nullable = true)\n",
      "\n"
     ]
    }
   ],
   "source": [
    "df.printSchema()"
   ]
  },
  {
   "cell_type": "markdown",
   "metadata": {
    "colab_type": "text",
    "id": "xq-6rJg0yjM6"
   },
   "source": [
    "**Creating a plot showing top 10 neighbourhoods/neighbourhood_group with highest hotel prices.\n",
    "**"
   ]
  },
  {
   "cell_type": "code",
   "execution_count": 13,
   "metadata": {
    "colab": {},
    "colab_type": "code",
    "id": "mV087Jj0yemS"
   },
   "outputs": [],
   "source": [
    "import seaborn as sns\n",
    "sns.set()"
   ]
  },
  {
   "cell_type": "code",
   "execution_count": 14,
   "metadata": {
    "colab": {},
    "colab_type": "code",
    "id": "mRmz2T27zBEu"
   },
   "outputs": [],
   "source": [
    "import matplotlib.pyplot as plt\n",
    "%matplotlib inline"
   ]
  },
  {
   "cell_type": "code",
   "execution_count": 15,
   "metadata": {
    "colab": {},
    "colab_type": "code",
    "id": "UY6bAvlizxAw"
   },
   "outputs": [],
   "source": [
    "import pandas as pd"
   ]
  },
  {
   "cell_type": "code",
   "execution_count": 16,
   "metadata": {
    "colab": {},
    "colab_type": "code",
    "id": "G96Y1VDa96MC"
   },
   "outputs": [],
   "source": [
    "import pyspark.sql.functions as func"
   ]
  },
  {
   "cell_type": "code",
   "execution_count": 17,
   "metadata": {
    "colab": {},
    "colab_type": "code",
    "id": "u3A1MuCo2Ugk"
   },
   "outputs": [],
   "source": [
    "#groupby, aggregating, sorting and then converting the dataframe to pandas\n",
    "#conversion to pandas is just for plotting purposes\n",
    "#Calculating mean of price for all the distinct neighbourhood_group\n",
    "df_neigh_gr_pd = df.groupBy(\"neighbourhood_group\").agg(func.mean(\"price\").alias(\"mean_price\")).orderBy('mean_price', ascending=False).toPandas().head(10)"
   ]
  },
  {
   "cell_type": "code",
   "execution_count": 18,
   "metadata": {
    "colab": {
     "base_uri": "https://localhost:8080/",
     "height": 197
    },
    "colab_type": "code",
    "id": "gp7rGa9sB_6A",
    "outputId": "a61b1d9f-43f0-408d-95d6-1708a74b20e7"
   },
   "outputs": [
    {
     "data": {
      "text/html": [
       "<div>\n",
       "<style scoped>\n",
       "    .dataframe tbody tr th:only-of-type {\n",
       "        vertical-align: middle;\n",
       "    }\n",
       "\n",
       "    .dataframe tbody tr th {\n",
       "        vertical-align: top;\n",
       "    }\n",
       "\n",
       "    .dataframe thead th {\n",
       "        text-align: right;\n",
       "    }\n",
       "</style>\n",
       "<table border=\"1\" class=\"dataframe\">\n",
       "  <thead>\n",
       "    <tr style=\"text-align: right;\">\n",
       "      <th></th>\n",
       "      <th>neighbourhood_group</th>\n",
       "      <th>mean_price</th>\n",
       "    </tr>\n",
       "  </thead>\n",
       "  <tbody>\n",
       "    <tr>\n",
       "      <td>0</td>\n",
       "      <td>Manhattan</td>\n",
       "      <td>196.743216</td>\n",
       "    </tr>\n",
       "    <tr>\n",
       "      <td>1</td>\n",
       "      <td>Brooklyn</td>\n",
       "      <td>124.398404</td>\n",
       "    </tr>\n",
       "    <tr>\n",
       "      <td>2</td>\n",
       "      <td>Staten Island</td>\n",
       "      <td>114.994595</td>\n",
       "    </tr>\n",
       "    <tr>\n",
       "      <td>3</td>\n",
       "      <td>Queens</td>\n",
       "      <td>99.576909</td>\n",
       "    </tr>\n",
       "    <tr>\n",
       "      <td>4</td>\n",
       "      <td>Bronx</td>\n",
       "      <td>87.728704</td>\n",
       "    </tr>\n",
       "  </tbody>\n",
       "</table>\n",
       "</div>"
      ],
      "text/plain": [
       "  neighbourhood_group  mean_price\n",
       "0           Manhattan  196.743216\n",
       "1            Brooklyn  124.398404\n",
       "2       Staten Island  114.994595\n",
       "3              Queens   99.576909\n",
       "4               Bronx   87.728704"
      ]
     },
     "execution_count": 18,
     "metadata": {},
     "output_type": "execute_result"
    }
   ],
   "source": [
    "df_neigh_gr_pd"
   ]
  },
  {
   "cell_type": "code",
   "execution_count": 19,
   "metadata": {
    "colab": {
     "base_uri": "https://localhost:8080/",
     "height": 654
    },
    "colab_type": "code",
    "id": "HEH6zPHmCfsd",
    "outputId": "224bc256-31f7-4a34-e697-94740e6f9a33"
   },
   "outputs": [
    {
     "data": {
      "text/plain": [
       "<matplotlib.axes._subplots.AxesSubplot at 0x7f3da3b48588>"
      ]
     },
     "execution_count": 19,
     "metadata": {},
     "output_type": "execute_result"
    },
    {
     "data": {
      "image/png": "[encoded data removed]",
      "text/plain": [
       "<Figure size 1800x720 with 1 Axes>"
      ]
     },
     "metadata": {
      "needs_background": "light"
     },
     "output_type": "display_data"
    }
   ],
   "source": [
    "plt.figure(figsize=(25, 10))\n",
    "sns.barplot(x=\"neighbourhood_group\", y=\"mean_price\", data=df_neigh_gr_pd)"
   ]
  },
  {
   "cell_type": "markdown",
   "metadata": {
    "colab_type": "text",
    "id": "lAD1xDFO-kzw"
   },
   "source": [
    "**Finding out the neighbourhood’s average price so that I am able to pick an economical location to book my hotel.**"
   ]
  },
  {
   "cell_type": "code",
   "execution_count": 20,
   "metadata": {
    "colab": {},
    "colab_type": "code",
    "id": "MYdh_qK14cRz"
   },
   "outputs": [],
   "source": [
    "#This will calculate mean price of each distinct neighbourhood\n",
    "df_neigh_pd = df.groupBy('neighbourhood').agg(func.mean(\"price\").alias(\"mean_price\")).orderBy('mean_price', ascending=True).toPandas().head(20)"
   ]
  },
  {
   "cell_type": "code",
   "execution_count": 21,
   "metadata": {
    "colab": {
     "base_uri": "https://localhost:8080/",
     "height": 647
    },
    "colab_type": "code",
    "id": "o7ngmaKdDjS8",
    "outputId": "e06f8449-f8f0-4ca4-cbbf-78fb462a1a31"
   },
   "outputs": [
    {
     "data": {
      "text/html": [
       "<div>\n",
       "<style scoped>\n",
       "    .dataframe tbody tr th:only-of-type {\n",
       "        vertical-align: middle;\n",
       "    }\n",
       "\n",
       "    .dataframe tbody tr th {\n",
       "        vertical-align: top;\n",
       "    }\n",
       "\n",
       "    .dataframe thead th {\n",
       "        text-align: right;\n",
       "    }\n",
       "</style>\n",
       "<table border=\"1\" class=\"dataframe\">\n",
       "  <thead>\n",
       "    <tr style=\"text-align: right;\">\n",
       "      <th></th>\n",
       "      <th>neighbourhood</th>\n",
       "      <th>mean_price</th>\n",
       "    </tr>\n",
       "  </thead>\n",
       "  <tbody>\n",
       "    <tr>\n",
       "      <td>0</td>\n",
       "      <td>Bull's Head</td>\n",
       "      <td>47.333333</td>\n",
       "    </tr>\n",
       "    <tr>\n",
       "      <td>1</td>\n",
       "      <td>Hunts Point</td>\n",
       "      <td>50.500000</td>\n",
       "    </tr>\n",
       "    <tr>\n",
       "      <td>2</td>\n",
       "      <td>Tremont</td>\n",
       "      <td>51.545455</td>\n",
       "    </tr>\n",
       "    <tr>\n",
       "      <td>3</td>\n",
       "      <td>Soundview</td>\n",
       "      <td>53.466667</td>\n",
       "    </tr>\n",
       "    <tr>\n",
       "      <td>4</td>\n",
       "      <td>New Dorp</td>\n",
       "      <td>57.000000</td>\n",
       "    </tr>\n",
       "    <tr>\n",
       "      <td>5</td>\n",
       "      <td>Bronxdale</td>\n",
       "      <td>57.105263</td>\n",
       "    </tr>\n",
       "    <tr>\n",
       "      <td>6</td>\n",
       "      <td>New Dorp Beach</td>\n",
       "      <td>57.400000</td>\n",
       "    </tr>\n",
       "    <tr>\n",
       "      <td>7</td>\n",
       "      <td>Grant City</td>\n",
       "      <td>57.666667</td>\n",
       "    </tr>\n",
       "    <tr>\n",
       "      <td>8</td>\n",
       "      <td>Concord</td>\n",
       "      <td>58.192308</td>\n",
       "    </tr>\n",
       "    <tr>\n",
       "      <td>9</td>\n",
       "      <td>Mount Eden</td>\n",
       "      <td>58.500000</td>\n",
       "    </tr>\n",
       "    <tr>\n",
       "      <td>10</td>\n",
       "      <td>Corona</td>\n",
       "      <td>59.171875</td>\n",
       "    </tr>\n",
       "    <tr>\n",
       "      <td>11</td>\n",
       "      <td>Woodlawn</td>\n",
       "      <td>60.090909</td>\n",
       "    </tr>\n",
       "    <tr>\n",
       "      <td>12</td>\n",
       "      <td>Castle Hill</td>\n",
       "      <td>63.000000</td>\n",
       "    </tr>\n",
       "    <tr>\n",
       "      <td>13</td>\n",
       "      <td>Borough Park</td>\n",
       "      <td>63.014815</td>\n",
       "    </tr>\n",
       "    <tr>\n",
       "      <td>14</td>\n",
       "      <td>Olinville</td>\n",
       "      <td>64.000000</td>\n",
       "    </tr>\n",
       "    <tr>\n",
       "      <td>15</td>\n",
       "      <td>Woodhaven</td>\n",
       "      <td>67.035294</td>\n",
       "    </tr>\n",
       "    <tr>\n",
       "      <td>16</td>\n",
       "      <td>Arden Heights</td>\n",
       "      <td>67.250000</td>\n",
       "    </tr>\n",
       "    <tr>\n",
       "      <td>17</td>\n",
       "      <td>Emerson Hill</td>\n",
       "      <td>68.200000</td>\n",
       "    </tr>\n",
       "    <tr>\n",
       "      <td>18</td>\n",
       "      <td>Graniteville</td>\n",
       "      <td>68.666667</td>\n",
       "    </tr>\n",
       "    <tr>\n",
       "      <td>19</td>\n",
       "      <td>Parkchester</td>\n",
       "      <td>69.076923</td>\n",
       "    </tr>\n",
       "  </tbody>\n",
       "</table>\n",
       "</div>"
      ],
      "text/plain": [
       "     neighbourhood  mean_price\n",
       "0      Bull's Head   47.333333\n",
       "1      Hunts Point   50.500000\n",
       "2          Tremont   51.545455\n",
       "3        Soundview   53.466667\n",
       "4         New Dorp   57.000000\n",
       "5        Bronxdale   57.105263\n",
       "6   New Dorp Beach   57.400000\n",
       "7       Grant City   57.666667\n",
       "8          Concord   58.192308\n",
       "9       Mount Eden   58.500000\n",
       "10          Corona   59.171875\n",
       "11        Woodlawn   60.090909\n",
       "12     Castle Hill   63.000000\n",
       "13    Borough Park   63.014815\n",
       "14       Olinville   64.000000\n",
       "15       Woodhaven   67.035294\n",
       "16   Arden Heights   67.250000\n",
       "17    Emerson Hill   68.200000\n",
       "18    Graniteville   68.666667\n",
       "19     Parkchester   69.076923"
      ]
     },
     "execution_count": 21,
     "metadata": {},
     "output_type": "execute_result"
    }
   ],
   "source": [
    "df_neigh_pd"
   ]
  },
  {
   "cell_type": "code",
   "execution_count": 22,
   "metadata": {
    "colab": {
     "base_uri": "https://localhost:8080/",
     "height": 654
    },
    "colab_type": "code",
    "id": "sFiZ2A_sDdG8",
    "outputId": "16513e59-a70a-4049-8d10-51e89ce1a04f"
   },
   "outputs": [
    {
     "data": {
      "text/plain": [
       "<matplotlib.axes._subplots.AxesSubplot at 0x7f3d9f93e3c8>"
      ]
     },
     "execution_count": 22,
     "metadata": {},
     "output_type": "execute_result"
    },
    {
     "data": {
      "image/png": "[encoded data removed]",
      "text/plain": [
       "<Figure size 1800x720 with 1 Axes>"
      ]
     },
     "metadata": {
      "needs_background": "light"
     },
     "output_type": "display_data"
    }
   ],
   "source": [
    "plt.figure(figsize=(25, 10))\n",
    "sns.barplot(x=\"neighbourhood\", y=\"mean_price\", data=df_neigh_pd)"
   ]
  },
  {
   "cell_type": "markdown",
   "metadata": {
    "colab_type": "text",
    "id": "4IgFsfcP7n7D"
   },
   "source": [
    "* Finding out the 10 most popular hosts based on number_of_reviews\n",
    "* Creating a column named popularity_index depicting popularity of the host."
   ]
  },
  {
   "cell_type": "code",
   "execution_count": 23,
   "metadata": {
    "colab": {},
    "colab_type": "code",
    "id": "UDmJw7f47t5K"
   },
   "outputs": [],
   "source": [
    "#calculaitng sum of reviews for each host_id\n",
    "df_host_popularity = df.groupby('host_id').agg(func.sum('number_of_reviews').alias('sum_review'))"
   ]
  },
  {
   "cell_type": "code",
   "execution_count": 24,
   "metadata": {
    "colab": {},
    "colab_type": "code",
    "id": "ucI4P3aa8M9s"
   },
   "outputs": [],
   "source": [
    "#calculating total reviews for complete data\n",
    "total_reviews = df.select(func.sum('number_of_reviews')).head()[0]"
   ]
  },
  {
   "cell_type": "code",
   "execution_count": 25,
   "metadata": {
    "colab": {
     "base_uri": "https://localhost:8080/",
     "height": 34
    },
    "colab_type": "code",
    "id": "hEzMcFEUIy9-",
    "outputId": "1cd44898-0cd6-40a9-c2cd-7759ee829a67"
   },
   "outputs": [
    {
     "data": {
      "text/plain": [
       "1133258"
      ]
     },
     "execution_count": 25,
     "metadata": {},
     "output_type": "execute_result"
    }
   ],
   "source": [
    "total_reviews"
   ]
  },
  {
   "cell_type": "code",
   "execution_count": 26,
   "metadata": {
    "colab": {},
    "colab_type": "code",
    "id": "wUVCCuM3SVB-"
   },
   "outputs": [],
   "source": [
    "#import udf\n",
    "from pyspark.sql import udf"
   ]
  },
  {
   "cell_type": "code",
   "execution_count": 27,
   "metadata": {
    "colab": {},
    "colab_type": "code",
    "id": "9VVFHZmiTvKj"
   },
   "outputs": [],
   "source": [
    "import pyspark.sql.functions as F"
   ]
  },
  {
   "cell_type": "code",
   "execution_count": 28,
   "metadata": {
    "colab": {},
    "colab_type": "code",
    "id": "JQw6ApItR71l"
   },
   "outputs": [],
   "source": [
    "#Defining function for withcolumn operation and then udf\n",
    "def func_divide(a1,a2):\n",
    "  return a1*100.0/float(a2)"
   ]
  },
  {
   "cell_type": "code",
   "execution_count": 29,
   "metadata": {
    "colab": {},
    "colab_type": "code",
    "id": "idV9ZbBjSv7L"
   },
   "outputs": [],
   "source": [
    "divide_func_sp = F.udf(func_divide,FloatType())"
   ]
  },
  {
   "cell_type": "code",
   "execution_count": 30,
   "metadata": {
    "colab": {
     "base_uri": "https://localhost:8080/",
     "height": 34
    },
    "colab_type": "code",
    "id": "CO1k-GzfUXXM",
    "outputId": "54a303de-0204-4815-c067-e4d0f1b90019"
   },
   "outputs": [
    {
     "data": {
      "text/plain": [
       "<function __main__.func_divide(a1, a2)>"
      ]
     },
     "execution_count": 30,
     "metadata": {},
     "output_type": "execute_result"
    }
   ],
   "source": [
    "divide_func_sp"
   ]
  },
  {
   "cell_type": "code",
   "execution_count": 31,
   "metadata": {
    "colab": {},
    "colab_type": "code",
    "id": "MVdC_Ek8VMTS"
   },
   "outputs": [],
   "source": [
    "#withColumn adds new column and applied the funcition to make new column\n",
    "df_host_popularity = df_host_popularity.withColumn('total_sum_reviews', F.lit(total_reviews))"
   ]
  },
  {
   "cell_type": "code",
   "execution_count": 32,
   "metadata": {
    "colab": {
     "base_uri": "https://localhost:8080/",
     "height": 478
    },
    "colab_type": "code",
    "id": "JWpxPBS-Vzod",
    "outputId": "715c5af1-425d-432c-db8f-b6b1f40c82ac"
   },
   "outputs": [
    {
     "name": "stdout",
     "output_type": "stream",
     "text": [
      "+--------+----------+-----------------+\n",
      "| host_id|sum_review|total_sum_reviews|\n",
      "+--------+----------+-----------------+\n",
      "|  291112|        35|          1133258|\n",
      "| 1384111|       103|          1133258|\n",
      "| 1597481|        13|          1133258|\n",
      "| 2108853|        18|          1133258|\n",
      "| 2429432|        27|          1133258|\n",
      "| 2530670|       134|          1133258|\n",
      "| 3432742|         2|          1133258|\n",
      "| 1360296|        13|          1133258|\n",
      "| 2124690|         1|          1133258|\n",
      "| 6414252|         1|          1133258|\n",
      "| 9637768|        47|          1133258|\n",
      "| 9947836|        87|          1133258|\n",
      "| 9430366|       159|          1133258|\n",
      "| 7974574|         5|          1133258|\n",
      "| 5907325|        32|          1133258|\n",
      "|13749425|       198|          1133258|\n",
      "| 5771331|        20|          1133258|\n",
      "| 9784206|       204|          1133258|\n",
      "| 4702135|         0|          1133258|\n",
      "|19239110|        25|          1133258|\n",
      "+--------+----------+-----------------+\n",
      "only showing top 20 rows\n",
      "\n"
     ]
    }
   ],
   "source": [
    "df_host_popularity.show()"
   ]
  },
  {
   "cell_type": "code",
   "execution_count": 33,
   "metadata": {
    "colab": {},
    "colab_type": "code",
    "id": "VnM-K1-JJXPe"
   },
   "outputs": [],
   "source": [
    "#creating popularity_index column by diving each host_id reviews by total no. of reviews\n",
    "df_host_popularity = df_host_popularity.withColumn('popularity_index',divide_func_sp('sum_review','total_sum_reviews'))"
   ]
  },
  {
   "cell_type": "code",
   "execution_count": 34,
   "metadata": {
    "colab": {
     "base_uri": "https://localhost:8080/",
     "height": 301
    },
    "colab_type": "code",
    "id": "u8MUDdbNQVHI",
    "outputId": "f4f1288e-3908-4f50-c459-b4c11420949e"
   },
   "outputs": [
    {
     "name": "stdout",
     "output_type": "stream",
     "text": [
      "+---------+----------+-----------------+----------------+\n",
      "|  host_id|sum_review|total_sum_reviews|popularity_index|\n",
      "+---------+----------+-----------------+----------------+\n",
      "| 37312959|      2273|          1133258|      0.20057216|\n",
      "|   344035|      2205|          1133258|      0.19457176|\n",
      "| 26432133|      2017|          1133258|      0.17798242|\n",
      "| 35524316|      1971|          1133258|      0.17392333|\n",
      "| 40176101|      1818|          1133258|      0.16042243|\n",
      "|  4734398|      1798|          1133258|      0.15865761|\n",
      "| 16677326|      1355|          1133258|      0.11956677|\n",
      "|  6885157|      1346|          1133258|       0.1187726|\n",
      "|219517861|      1281|          1133258|      0.11303692|\n",
      "| 23591164|      1269|          1133258|      0.11197803|\n",
      "+---------+----------+-----------------+----------------+\n",
      "only showing top 10 rows\n",
      "\n"
     ]
    }
   ],
   "source": [
    "df_host_popularity.orderBy('popularity_index', ascending=False).show(10)"
   ]
  },
  {
   "cell_type": "code",
   "execution_count": 35,
   "metadata": {
    "colab": {},
    "colab_type": "code",
    "id": "oO_-CraJYcl-"
   },
   "outputs": [],
   "source": [
    "df_host_popularity = df_host_popularity.select('host_id','popularity_index')"
   ]
  },
  {
   "cell_type": "code",
   "execution_count": 36,
   "metadata": {
    "colab": {
     "base_uri": "https://localhost:8080/",
     "height": 478
    },
    "colab_type": "code",
    "id": "TnpVpjCzYk16",
    "outputId": "3a533371-c064-4bb0-9987-037da1ce3a79"
   },
   "outputs": [
    {
     "name": "stdout",
     "output_type": "stream",
     "text": [
      "+--------+----------------+\n",
      "| host_id|popularity_index|\n",
      "+--------+----------------+\n",
      "|  291112|    0.0030884405|\n",
      "| 1384111|     0.009088839|\n",
      "| 1597481|     0.001147135|\n",
      "| 2108853|    0.0015883408|\n",
      "| 2429432|    0.0023825113|\n",
      "| 2530670|     0.011824315|\n",
      "| 3432742|    1.7648232E-4|\n",
      "| 1360296|     0.001147135|\n",
      "| 2124690|     8.824116E-5|\n",
      "| 6414252|     8.824116E-5|\n",
      "| 9637768|    0.0041473345|\n",
      "| 9947836|     0.007676981|\n",
      "| 9430366|     0.014030345|\n",
      "| 7974574|     4.412058E-4|\n",
      "| 5907325|    0.0028237172|\n",
      "|13749425|      0.01747175|\n",
      "| 5771331|    0.0017648232|\n",
      "| 9784206|     0.018001197|\n",
      "| 4702135|             0.0|\n",
      "|19239110|     0.002206029|\n",
      "+--------+----------------+\n",
      "only showing top 20 rows\n",
      "\n"
     ]
    }
   ],
   "source": [
    "df_host_popularity.show()"
   ]
  },
  {
   "cell_type": "code",
   "execution_count": 37,
   "metadata": {
    "colab": {
     "base_uri": "https://localhost:8080/",
     "height": 301
    },
    "colab_type": "code",
    "id": "XAzdj9x4bJYI",
    "outputId": "bc545830-b2fc-42ac-833b-be350d08911d"
   },
   "outputs": [
    {
     "name": "stdout",
     "output_type": "stream",
     "text": [
      "+---------+----------------+\n",
      "|  host_id|popularity_index|\n",
      "+---------+----------------+\n",
      "| 37312959|      0.20057216|\n",
      "|   344035|      0.19457176|\n",
      "| 26432133|      0.17798242|\n",
      "| 35524316|      0.17392333|\n",
      "| 40176101|      0.16042243|\n",
      "|  4734398|      0.15865761|\n",
      "| 16677326|      0.11956677|\n",
      "|  6885157|       0.1187726|\n",
      "|219517861|      0.11303692|\n",
      "| 23591164|      0.11197803|\n",
      "+---------+----------------+\n",
      "only showing top 10 rows\n",
      "\n"
     ]
    }
   ],
   "source": [
    "df_host_popularity.orderBy('popularity_index', ascending=False).show(10)"
   ]
  },
  {
   "cell_type": "code",
   "execution_count": 38,
   "metadata": {
    "colab": {},
    "colab_type": "code",
    "id": "edIGcVFcWJDC"
   },
   "outputs": [],
   "source": [
    "#merging the popularity_index to the main dataframe\n",
    "df = df.join(df_host_popularity, \"host_id\", \"left\")"
   ]
  },
  {
   "cell_type": "code",
   "execution_count": 39,
   "metadata": {
    "colab": {
     "base_uri": "https://localhost:8080/",
     "height": 498
    },
    "colab_type": "code",
    "id": "5BLfPEpbYAMR",
    "outputId": "638037f6-a735-4c73-8bb2-151642190008"
   },
   "outputs": [
    {
     "name": "stdout",
     "output_type": "stream",
     "text": [
      "+-------+----+--------------------+---------+-------------------+-------------+--------+---------+---------------+-----+--------------+-----------------+-----------+-----------------+------------------------------+----------------+----------------+\n",
      "|host_id|  id|                name|host_name|neighbourhood_group|neighbourhood|latitude|longitude|      room_type|price|minimum_nights|number_of_reviews|last_review|reviews_per_month|calculated_host_listings_count|availability_365|popularity_index|\n",
      "+-------+----+--------------------+---------+-------------------+-------------+--------+---------+---------------+-----+--------------+-----------------+-----------+-----------------+------------------------------+----------------+----------------+\n",
      "|   2787|2539|Clean & quiet apt...|     John|           Brooklyn|   Kensington|40.64749|-73.97237|   Private room|  149|             1|                9| 2018-10-19|             0.21|                             6|             365|     0.009265321|\n",
      "|   2845|2595|Skylit Midtown Ca...| Jennifer|          Manhattan|      Midtown|40.75362|-73.98377|Entire home/apt|  225|             1|               45| 2019-05-21|             0.38|                             2|             355|    0.0040590935|\n",
      "+-------+----+--------------------+---------+-------------------+-------------+--------+---------+---------------+-----+--------------+-----------------+-----------+-----------------+------------------------------+----------------+----------------+\n",
      "only showing top 2 rows\n",
      "\n"
     ]
    }
   ],
   "source": [
    "df.show(2)"
   ]
  },
  {
   "cell_type": "markdown",
   "metadata": {
    "colab_type": "text",
    "id": "spmqLqLVaCkr"
   },
   "source": [
    "**Finding out the top locations where people tend to stay for a longer duration (more than a week) and sorting those by their popularity index. **"
   ]
  },
  {
   "cell_type": "code",
   "execution_count": 40,
   "metadata": {
    "colab": {
     "base_uri": "https://localhost:8080/",
     "height": 478
    },
    "colab_type": "code",
    "id": "8reBEf8BZ8m0",
    "outputId": "5f2d1a7a-89c8-437f-8881-9ba9ca94671e"
   },
   "outputs": [
    {
     "name": "stdout",
     "output_type": "stream",
     "text": [
      "+------------------+\n",
      "|     neighbourhood|\n",
      "+------------------+\n",
      "|       Murray Hill|\n",
      "|   Upper East Side|\n",
      "|       Murray Hill|\n",
      "|Financial District|\n",
      "|       Murray Hill|\n",
      "|Financial District|\n",
      "|       Murray Hill|\n",
      "|    Hell's Kitchen|\n",
      "|       Murray Hill|\n",
      "|Financial District|\n",
      "|       Murray Hill|\n",
      "|       Murray Hill|\n",
      "|           Midtown|\n",
      "|       Murray Hill|\n",
      "|  Theater District|\n",
      "|       Murray Hill|\n",
      "|           Chelsea|\n",
      "|       Murray Hill|\n",
      "|  Theater District|\n",
      "|  Theater District|\n",
      "+------------------+\n",
      "only showing top 20 rows\n",
      "\n"
     ]
    }
   ],
   "source": [
    "#spark filter and sorting\n",
    "df.filter(df['minimum_nights'] > 10).orderBy('popularity_index', ascending=False).select(df['neighbourhood']).show(20)"
   ]
  },
  {
   "cell_type": "markdown",
   "metadata": {
    "colab_type": "text",
    "id": "q9lcJlTkdhPj"
   },
   "source": [
    "**Finding out the most popular regions based on the host_id’s popularity_index**\n",
    "\n"
   ]
  },
  {
   "cell_type": "code",
   "execution_count": 41,
   "metadata": {
    "colab": {},
    "colab_type": "code",
    "id": "GypXRDtdagZ7"
   },
   "outputs": [],
   "source": [
    "df_popular_regions = df.groupby('neighbourhood').agg(func.sum('popularity_index').alias('pop_reg'))"
   ]
  },
  {
   "cell_type": "code",
   "execution_count": 42,
   "metadata": {
    "colab": {
     "base_uri": "https://localhost:8080/",
     "height": 478
    },
    "colab_type": "code",
    "id": "3qT_hfTbekyB",
    "outputId": "a85057a2-7c7c-43bd-fa1c-5c62ae245baa"
   },
   "outputs": [
    {
     "name": "stdout",
     "output_type": "stream",
     "text": [
      "+------------------+--------------------+\n",
      "|     neighbourhood|             pop_reg|\n",
      "+------------------+--------------------+\n",
      "|            Corona| 0.37996642736834474|\n",
      "|      Richmondtown|0.006971051450818777|\n",
      "|      Prince's Bay|0.002029546711128205|\n",
      "|       Westerleigh|0.001588340826856438|\n",
      "|        Mill Basin|0.006088639871450141|\n",
      "|      Civic Center| 0.09212377076619305|\n",
      "|        Douglaston|0.021972048794850707|\n",
      "|        Mount Hope| 0.06353363431117032|\n",
      "|       Marble Hill|0.016942302339884918|\n",
      "|         Rego Park|  0.4028208956660819|\n",
      "|     Dyker Heights| 0.07421081555366982|\n",
      "| Kew Gardens Hills|   0.037943698487652|\n",
      "|      Dongan Hills| 0.01817767834290862|\n",
      "|Financial District|  26.021435049442516|\n",
      "|       Bay Terrace|0.023030942829791456|\n",
      "|           Midtown|   6.246238657622598|\n",
      "|   Jackson Heights|  1.0538641667517368|\n",
      "|           Bayside| 0.18530643329722807|\n",
      "|    Hell's Kitchen|  15.653981718765863|\n",
      "|        Highbridge| 0.35949447581515415|\n",
      "+------------------+--------------------+\n",
      "only showing top 20 rows\n",
      "\n"
     ]
    }
   ],
   "source": [
    "df_popular_regions.show()"
   ]
  },
  {
   "cell_type": "code",
   "execution_count": 43,
   "metadata": {
    "colab": {},
    "colab_type": "code",
    "id": "-c88sA70eE1j"
   },
   "outputs": [],
   "source": [
    "df_popular_regions = df_popular_regions.orderBy('pop_reg', ascending=False).toPandas().head(10)"
   ]
  },
  {
   "cell_type": "code",
   "execution_count": 44,
   "metadata": {
    "colab": {
     "base_uri": "https://localhost:8080/",
     "height": 197
    },
    "colab_type": "code",
    "id": "mowHJOlZeMJi",
    "outputId": "9139a93f-c8cd-4310-fd71-e1ce5cd17d15"
   },
   "outputs": [
    {
     "data": {
      "text/html": [
       "<div>\n",
       "<style scoped>\n",
       "    .dataframe tbody tr th:only-of-type {\n",
       "        vertical-align: middle;\n",
       "    }\n",
       "\n",
       "    .dataframe tbody tr th {\n",
       "        vertical-align: top;\n",
       "    }\n",
       "\n",
       "    .dataframe thead th {\n",
       "        text-align: right;\n",
       "    }\n",
       "</style>\n",
       "<table border=\"1\" class=\"dataframe\">\n",
       "  <thead>\n",
       "    <tr style=\"text-align: right;\">\n",
       "      <th></th>\n",
       "      <th>neighbourhood</th>\n",
       "      <th>pop_reg</th>\n",
       "    </tr>\n",
       "  </thead>\n",
       "  <tbody>\n",
       "    <tr>\n",
       "      <td>0</td>\n",
       "      <td>Financial District</td>\n",
       "      <td>26.021435</td>\n",
       "    </tr>\n",
       "    <tr>\n",
       "      <td>1</td>\n",
       "      <td>Bedford-Stuyvesant</td>\n",
       "      <td>23.885823</td>\n",
       "    </tr>\n",
       "    <tr>\n",
       "      <td>2</td>\n",
       "      <td>Hell's Kitchen</td>\n",
       "      <td>15.653982</td>\n",
       "    </tr>\n",
       "    <tr>\n",
       "      <td>3</td>\n",
       "      <td>Harlem</td>\n",
       "      <td>12.466005</td>\n",
       "    </tr>\n",
       "    <tr>\n",
       "      <td>4</td>\n",
       "      <td>Williamsburg</td>\n",
       "      <td>12.268080</td>\n",
       "    </tr>\n",
       "  </tbody>\n",
       "</table>\n",
       "</div>"
      ],
      "text/plain": [
       "        neighbourhood    pop_reg\n",
       "0  Financial District  26.021435\n",
       "1  Bedford-Stuyvesant  23.885823\n",
       "2      Hell's Kitchen  15.653982\n",
       "3              Harlem  12.466005\n",
       "4        Williamsburg  12.268080"
      ]
     },
     "execution_count": 44,
     "metadata": {},
     "output_type": "execute_result"
    }
   ],
   "source": [
    "df_popular_regions.head()"
   ]
  },
  {
   "cell_type": "code",
   "execution_count": 45,
   "metadata": {
    "colab": {
     "base_uri": "https://localhost:8080/",
     "height": 417
    },
    "colab_type": "code",
    "id": "rnVb10oKfTET",
    "outputId": "cfca5b21-f02b-4efb-ce2a-08158fe22719"
   },
   "outputs": [
    {
     "data": {
      "text/plain": [
       "<matplotlib.axes._subplots.AxesSubplot at 0x7f3d9fe06f28>"
      ]
     },
     "execution_count": 45,
     "metadata": {},
     "output_type": "execute_result"
    },
    {
     "data": {
      "image/png": "[encoded data removed]",
      "text/plain": [
       "<Figure size 1152x432 with 1 Axes>"
      ]
     },
     "metadata": {
      "needs_background": "light"
     },
     "output_type": "display_data"
    }
   ],
   "source": [
    "plt.figure(figsize=(16, 6))\n",
    "sns.barplot(x='neighbourhood', y='pop_reg', data=df_popular_regions)"
   ]
  },
  {
   "cell_type": "markdown",
   "metadata": {
    "colab_type": "text",
    "id": "wKqwVCfvfcKH"
   },
   "source": [
    "* Calculating host_id’s popularity in its neighbourhood \n",
    "* Creating a column host_neighbourhood_popularity by calculating relative percentage of reviews of host among total reviews in that region.\n"
   ]
  },
  {
   "cell_type": "code",
   "execution_count": 46,
   "metadata": {
    "colab": {},
    "colab_type": "code",
    "id": "vICiPwyhePec"
   },
   "outputs": [],
   "source": [
    "#Summing no. of reviews for each neighbourhood\n",
    "df_neighbourhood_sum = df.groupby('neighbourhood').agg(func.sum('number_of_reviews').alias('sum_reviews_ne'))"
   ]
  },
  {
   "cell_type": "code",
   "execution_count": 47,
   "metadata": {
    "colab": {
     "base_uri": "https://localhost:8080/",
     "height": 212
    },
    "colab_type": "code",
    "id": "YRrPjOPujnh1",
    "outputId": "a34430d3-094c-436e-c790-66e96266cc1b"
   },
   "outputs": [
    {
     "name": "stdout",
     "output_type": "stream",
     "text": [
      "+-------------+--------------+\n",
      "|neighbourhood|sum_reviews_ne|\n",
      "+-------------+--------------+\n",
      "|       Corona|          1806|\n",
      "| Richmondtown|            79|\n",
      "| Prince's Bay|            23|\n",
      "|  Westerleigh|            18|\n",
      "|   Mill Basin|            69|\n",
      "+-------------+--------------+\n",
      "only showing top 5 rows\n",
      "\n"
     ]
    }
   ],
   "source": [
    "df_neighbourhood_sum.show(5)"
   ]
  },
  {
   "cell_type": "code",
   "execution_count": 48,
   "metadata": {
    "colab": {
     "base_uri": "https://localhost:8080/",
     "height": 34
    },
    "colab_type": "code",
    "id": "P0wPmw48i534",
    "outputId": "a8f008d5-3f37-4087-ce76-1e22cdda15e5"
   },
   "outputs": [
    {
     "data": {
      "text/plain": [
       "Row(neighbourhood='Corona', sum_reviews_ne=1806)"
      ]
     },
     "execution_count": 48,
     "metadata": {},
     "output_type": "execute_result"
    }
   ],
   "source": [
    "df_neighbourhood_sum.head()"
   ]
  },
  {
   "cell_type": "code",
   "execution_count": 49,
   "metadata": {
    "colab": {},
    "colab_type": "code",
    "id": "FSU95uXsi8GN"
   },
   "outputs": [],
   "source": [
    "df_neighbourhood_host_sum = df.groupby('host_id','neighbourhood').agg(func.sum('number_of_reviews').alias('sum_reviews_id_ne'))"
   ]
  },
  {
   "cell_type": "code",
   "execution_count": 50,
   "metadata": {
    "colab": {
     "base_uri": "https://localhost:8080/",
     "height": 478
    },
    "colab_type": "code",
    "id": "VUOTC4_LjTgt",
    "outputId": "f3bbd341-7994-40ac-b55c-e962e97bf7eb"
   },
   "outputs": [
    {
     "name": "stdout",
     "output_type": "stream",
     "text": [
      "+--------+--------------------+-----------------+\n",
      "| host_id|       neighbourhood|sum_reviews_id_ne|\n",
      "+--------+--------------------+-----------------+\n",
      "|  829652|            Gramercy|              105|\n",
      "| 1269455|        West Village|               37|\n",
      "| 1498424|         Fort Greene|               35|\n",
      "| 1633100|            Bushwick|               42|\n",
      "|  160565|  Bedford-Stuyvesant|                3|\n",
      "| 4241953|            Flushing|               81|\n",
      "| 3898812|             Astoria|               58|\n",
      "| 6873370|         Sunset Park|               24|\n",
      "|  173980|  Bedford-Stuyvesant|              181|\n",
      "| 1472225|        East Village|               59|\n",
      "|11192207|     Upper West Side|                2|\n",
      "|10930874|        Forest Hills|                1|\n",
      "|16288928|          Park Slope|              136|\n",
      "| 9604972|     Lower East Side|                1|\n",
      "|17604079|              Harlem|                1|\n",
      "|17773625|             Tribeca|               73|\n",
      "| 2119276|     Upper East Side|               20|\n",
      "|21019043|        Clinton Hill|               14|\n",
      "|20289059|     Upper East Side|              160|\n",
      "| 2770375|Prospect-Lefferts...|               12|\n",
      "+--------+--------------------+-----------------+\n",
      "only showing top 20 rows\n",
      "\n"
     ]
    }
   ],
   "source": [
    "df_neighbourhood_host_sum.show()"
   ]
  },
  {
   "cell_type": "code",
   "execution_count": 51,
   "metadata": {
    "colab": {},
    "colab_type": "code",
    "id": "x1IfPItvjVqr"
   },
   "outputs": [],
   "source": [
    "#merging column\n",
    "df_neighbourhood_host_merged = df_neighbourhood_host_sum.join(df_neighbourhood_sum,'neighbourhood','left')"
   ]
  },
  {
   "cell_type": "code",
   "execution_count": 52,
   "metadata": {
    "colab": {
     "base_uri": "https://localhost:8080/",
     "height": 301
    },
    "colab_type": "code",
    "id": "rSQplU5jkEoq",
    "outputId": "3f8c143a-5546-4b76-fad9-aa3fc9fe8ec4"
   },
   "outputs": [
    {
     "name": "stdout",
     "output_type": "stream",
     "text": [
      "+-------------+-------+-----------------+--------------+\n",
      "|neighbourhood|host_id|sum_reviews_id_ne|sum_reviews_ne|\n",
      "+-------------+-------+-----------------+--------------+\n",
      "| Williamsburg|   2438|                1|         85368|\n",
      "| Williamsburg|  10889|              383|         85368|\n",
      "| Williamsburg|  15991|              148|         85368|\n",
      "| Williamsburg|  19402|               37|         85368|\n",
      "| Williamsburg|  21207|                9|         85368|\n",
      "| Williamsburg|  21306|                2|         85368|\n",
      "| Williamsburg|  39304|                0|         85368|\n",
      "| Williamsburg|  45384|               20|         85368|\n",
      "| Williamsburg|  51414|                9|         85368|\n",
      "| Williamsburg|  52043|               53|         85368|\n",
      "+-------------+-------+-----------------+--------------+\n",
      "only showing top 10 rows\n",
      "\n"
     ]
    }
   ],
   "source": [
    "df_neighbourhood_host_merged.filter(df['neighbourhood'] == 'Williamsburg').orderBy('host_id', ascending=True).show(10)"
   ]
  },
  {
   "cell_type": "code",
   "execution_count": 53,
   "metadata": {
    "colab": {},
    "colab_type": "code",
    "id": "m85RqkY3mUiy"
   },
   "outputs": [],
   "source": [
    "def func_divide(a1,a2):\n",
    "  if(a2!=0):\n",
    "    ans = a1*100.0/float(a2)\n",
    "  else:\n",
    "    ans = 0\n",
    "  return ans"
   ]
  },
  {
   "cell_type": "code",
   "execution_count": 54,
   "metadata": {
    "colab": {},
    "colab_type": "code",
    "id": "i7LR1nFCmngV"
   },
   "outputs": [],
   "source": [
    "divide_func_sp = F.udf(func_divide,FloatType())"
   ]
  },
  {
   "cell_type": "code",
   "execution_count": 55,
   "metadata": {
    "colab": {},
    "colab_type": "code",
    "id": "zT_dnCkBkHDv"
   },
   "outputs": [],
   "source": [
    "df_neighbourhood_host_merged = df_neighbourhood_host_merged.withColumn('host_neighbourhood_popularity',divide_func_sp('sum_reviews_id_ne','sum_reviews_ne'))"
   ]
  },
  {
   "cell_type": "code",
   "execution_count": 56,
   "metadata": {
    "colab": {
     "base_uri": "https://localhost:8080/",
     "height": 478
    },
    "colab_type": "code",
    "id": "K3ACA0tblvAL",
    "outputId": "5acb547a-7275-4891-a4dc-08d7bf2583f0"
   },
   "outputs": [
    {
     "name": "stdout",
     "output_type": "stream",
     "text": [
      "+-------------+---------+-----------------+--------------+-----------------------------+\n",
      "|neighbourhood|  host_id|sum_reviews_id_ne|sum_reviews_ne|host_neighbourhood_popularity|\n",
      "+-------------+---------+-----------------+--------------+-----------------------------+\n",
      "|       Corona|265288059|                7|          1806|                    0.3875969|\n",
      "|       Corona|176679165|              156|          1806|                     8.637874|\n",
      "|       Corona| 32446721|              100|          1806|                    5.5370984|\n",
      "|       Corona|124042625|                4|          1806|                   0.22148395|\n",
      "|       Corona| 44620317|              114|          1806|                    6.3122926|\n",
      "|       Corona| 34129674|                0|          1806|                          0.0|\n",
      "|       Corona|  5261297|               45|          1806|                    2.4916945|\n",
      "|       Corona| 98697139|               43|          1806|                    2.3809524|\n",
      "|       Corona| 31307789|               29|          1806|                    1.6057585|\n",
      "|       Corona|253304582|                4|          1806|                   0.22148395|\n",
      "|       Corona|215778245|               65|          1806|                    3.5991142|\n",
      "|       Corona| 38260715|               74|          1806|                     4.097453|\n",
      "|       Corona|190096034|              166|          1806|                     9.191584|\n",
      "|       Corona| 83616984|               60|          1806|                    3.3222592|\n",
      "|       Corona|155989291|               10|          1806|                   0.55370986|\n",
      "|       Corona|253118370|                6|          1806|                   0.33222592|\n",
      "|       Corona|223087887|               33|          1806|                    1.8272425|\n",
      "|       Corona| 69117812|              105|          1806|                    5.8139534|\n",
      "|       Corona| 12621774|               69|          1806|                    3.8205981|\n",
      "|       Corona|155529225|                0|          1806|                          0.0|\n",
      "+-------------+---------+-----------------+--------------+-----------------------------+\n",
      "only showing top 20 rows\n",
      "\n"
     ]
    }
   ],
   "source": [
    "df_neighbourhood_host_merged.show()"
   ]
  },
  {
   "cell_type": "code",
   "execution_count": 57,
   "metadata": {
    "colab": {
     "base_uri": "https://localhost:8080/",
     "height": 478
    },
    "colab_type": "code",
    "id": "JIbqornmlxOZ",
    "outputId": "1a197a16-ea4d-4ebb-c034-145af0d84490"
   },
   "outputs": [
    {
     "name": "stdout",
     "output_type": "stream",
     "text": [
      "+---------------+---------+-----------------+--------------+-----------------------------+\n",
      "|  neighbourhood|  host_id|sum_reviews_id_ne|sum_reviews_ne|host_neighbourhood_popularity|\n",
      "+---------------+---------+-----------------+--------------+-----------------------------+\n",
      "|   Breezy Point|200754542|                5|             5|                        100.0|\n",
      "|    Eastchester|   310670|              157|           157|                        100.0|\n",
      "|      Rossville|  6402171|               21|            21|                        100.0|\n",
      "|    Eltingville| 28189446|               83|            83|                        100.0|\n",
      "|   Richmondtown| 71312760|               79|            79|                        100.0|\n",
      "|    Willowbrook|115827173|                9|             9|                        100.0|\n",
      "|    Westerleigh|164164069|               17|            18|                     94.44444|\n",
      "|     Co-op City|   310670|               32|            34|                    94.117645|\n",
      "|    Grymes Hill|148130073|               69|            74|                     93.24324|\n",
      "|    Little Neck| 18996093|               12|            13|                     92.30769|\n",
      "|     Baychester| 57165692|              275|           310|                     88.70968|\n",
      "|       Huguenot| 76840423|              136|           167|                    81.437126|\n",
      "|North Riverdale|  9539641|              143|           182|                     78.57143|\n",
      "|   Emerson Hill|131115416|               43|            56|                     76.78571|\n",
      "| New Dorp Beach|233485864|               56|            74|                    75.675674|\n",
      "|   New Brighton| 53627900|              149|           201|                     74.12936|\n",
      "|       Neponsit| 62608664|               34|            46|                     73.91304|\n",
      "|     Holliswood| 85202728|               11|            15|                    73.333336|\n",
      "|    Castle Hill|101289150|               86|           118|                    72.881355|\n",
      "|     Morrisania|161081229|              134|           186|                    72.043015|\n",
      "+---------------+---------+-----------------+--------------+-----------------------------+\n",
      "only showing top 20 rows\n",
      "\n"
     ]
    }
   ],
   "source": [
    "df_neighbourhood_host_merged.orderBy('host_neighbourhood_popularity', ascending=False).show(20)"
   ]
  },
  {
   "cell_type": "code",
   "execution_count": 58,
   "metadata": {
    "colab": {},
    "colab_type": "code",
    "id": "nVohyU0zl_KE"
   },
   "outputs": [],
   "source": [
    "df_neighbourhood_host_merged = df_neighbourhood_host_merged.select('host_id','neighbourhood','host_neighbourhood_popularity')"
   ]
  },
  {
   "cell_type": "code",
   "execution_count": 59,
   "metadata": {
    "colab": {
     "base_uri": "https://localhost:8080/",
     "height": 212
    },
    "colab_type": "code",
    "id": "Cctf9-gFnds3",
    "outputId": "3d2d335c-e272-49c4-fa33-14dfeb804d49"
   },
   "outputs": [
    {
     "name": "stdout",
     "output_type": "stream",
     "text": [
      "+---------+-------------+-----------------------------+\n",
      "|  host_id|neighbourhood|host_neighbourhood_popularity|\n",
      "+---------+-------------+-----------------------------+\n",
      "|265288059|       Corona|                    0.3875969|\n",
      "|176679165|       Corona|                     8.637874|\n",
      "| 32446721|       Corona|                    5.5370984|\n",
      "|124042625|       Corona|                   0.22148395|\n",
      "| 44620317|       Corona|                    6.3122926|\n",
      "+---------+-------------+-----------------------------+\n",
      "only showing top 5 rows\n",
      "\n"
     ]
    }
   ],
   "source": [
    "df_neighbourhood_host_merged.show(5)"
   ]
  },
  {
   "cell_type": "code",
   "execution_count": 60,
   "metadata": {
    "colab": {
     "base_uri": "https://localhost:8080/",
     "height": 194
    },
    "colab_type": "code",
    "id": "SAr1GDfsngAp",
    "outputId": "9172a9f6-8412-4bff-d0c3-5d2da81c0172"
   },
   "outputs": [
    {
     "name": "stdout",
     "output_type": "stream",
     "text": [
      "+---------+-------------+-----------------------------+\n",
      "|  host_id|neighbourhood|host_neighbourhood_popularity|\n",
      "+---------+-------------+-----------------------------+\n",
      "|209306758|   Baychester|                     6.774194|\n",
      "| 64425305|   Baychester|                    0.9677419|\n",
      "|246653349|   Baychester|                     3.548387|\n",
      "|129890157|   Baychester|                          0.0|\n",
      "| 57165692|   Baychester|                     88.70968|\n",
      "+---------+-------------+-----------------------------+\n",
      "\n"
     ]
    }
   ],
   "source": [
    "#To validate results, for baychester the sum of all the host_neighbourhood_popularity = 100.0\n",
    "df_neighbourhood_host_merged.filter(df_neighbourhood_host_merged['neighbourhood']=='Baychester').show()"
   ]
  },
  {
   "cell_type": "code",
   "execution_count": 61,
   "metadata": {
    "colab": {},
    "colab_type": "code",
    "id": "h8NcP5-Gnpia"
   },
   "outputs": [],
   "source": [
    "df = df.join(df_neighbourhood_host_merged,['host_id','neighbourhood'],'left')"
   ]
  },
  {
   "cell_type": "code",
   "execution_count": 62,
   "metadata": {
    "colab": {
     "base_uri": "https://localhost:8080/",
     "height": 498
    },
    "colab_type": "code",
    "id": "rqVu3a-Hovpe",
    "outputId": "e112a25c-b89e-475d-d807-4b82964d206d"
   },
   "outputs": [
    {
     "name": "stdout",
     "output_type": "stream",
     "text": [
      "+--------+-------------+--------+--------------------+---------+-------------------+--------+---------+---------------+-----+--------------+-----------------+-----------+-----------------+------------------------------+----------------+----------------+-----------------------------+\n",
      "| host_id|neighbourhood|      id|                name|host_name|neighbourhood_group|latitude|longitude|      room_type|price|minimum_nights|number_of_reviews|last_review|reviews_per_month|calculated_host_listings_count|availability_365|popularity_index|host_neighbourhood_popularity|\n",
      "+--------+-------------+--------+--------------------+---------+-------------------+--------+---------+---------------+-----+--------------+-----------------+-----------+-----------------+------------------------------+----------------+----------------+-----------------------------+\n",
      "| 6402171|    Rossville|26258351|Escape NYC in the...|    Taryn|      Staten Island| 40.5479|-74.21017|Entire home/apt|   75|             3|               21| 2019-07-01|             1.69|                             1|              59|    0.0018530644|                        100.0|\n",
      "|18996093|  Little Neck|20227428|Douglaston Apartm...|  Leonard|             Queens|40.75794|-73.72956|   Private room|   45|             1|               12| 2019-06-22|             0.55|                             5|             133|     0.003353164|                     92.30769|\n",
      "+--------+-------------+--------+--------------------+---------+-------------------+--------+---------+---------------+-----+--------------+-----------------+-----------+-----------------+------------------------------+----------------+----------------+-----------------------------+\n",
      "only showing top 2 rows\n",
      "\n"
     ]
    }
   ],
   "source": [
    "df.filter(df['host_neighbourhood_popularity']>90).show(2)"
   ]
  },
  {
   "cell_type": "markdown",
   "metadata": {
    "colab_type": "text",
    "id": "p0WDyKXiqPqi"
   },
   "source": [
    "**Finding:**\n",
    "* Maximum revenue in Private Rooms \n",
    "* Minimum revenue in Private Rooms \n",
    "* Maximum revenue in Entire Homes \n",
    "* Minimum revenue in Entire Homes \n"
   ]
  },
  {
   "cell_type": "code",
   "execution_count": 63,
   "metadata": {
    "colab": {},
    "colab_type": "code",
    "id": "RUFVg2s1pjlX"
   },
   "outputs": [],
   "source": [
    "#Filtering only private room and entire room\n",
    "df_neighbourhood_room_type = df.filter(df['room_type'] != 'Shared room')"
   ]
  },
  {
   "cell_type": "code",
   "execution_count": 64,
   "metadata": {
    "colab": {},
    "colab_type": "code",
    "id": "5RFLP7ecxGpF"
   },
   "outputs": [],
   "source": [
    "df_neighbourhood_room_type = df_neighbourhood_room_type.groupby('neighbourhood','room_type').agg(func.sum('price').alias('price_sum'))"
   ]
  },
  {
   "cell_type": "code",
   "execution_count": 65,
   "metadata": {
    "colab": {
     "base_uri": "https://localhost:8080/",
     "height": 478
    },
    "colab_type": "code",
    "id": "weTIeRlrxawg",
    "outputId": "9f436666-0cee-4aa8-8751-961ba6d595f2"
   },
   "outputs": [
    {
     "name": "stdout",
     "output_type": "stream",
     "text": [
      "+-----------------+---------------+---------+\n",
      "|    neighbourhood|      room_type|price_sum|\n",
      "+-----------------+---------------+---------+\n",
      "|Battery Park City|Entire home/apt|    23450|\n",
      "|   Morris Heights|Entire home/apt|      421|\n",
      "|     Coney Island|   Private room|      480|\n",
      "|Battery Park City|   Private room|     2224|\n",
      "|        Unionport|   Private room|      225|\n",
      "|   Williamsbridge|Entire home/apt|     2818|\n",
      "|          Arverne|   Private room|     2369|\n",
      "|       Morrisania|   Private room|      623|\n",
      "|       Kensington|   Private room|     5819|\n",
      "|    Schuylerville|   Private room|      624|\n",
      "|             NoHo|Entire home/apt|    21474|\n",
      "|      Murray Hill|   Private room|    10335|\n",
      "|        Laurelton|   Private room|      552|\n",
      "|         Glendale|Entire home/apt|     3420|\n",
      "|      Boerum Hill|Entire home/apt|    27624|\n",
      "|       Ozone Park|Entire home/apt|     3649|\n",
      "|     Williamsburg|   Private room|   170841|\n",
      "|  Upper West Side|Entire home/apt|   328724|\n",
      "|  East Morrisania|   Private room|      470|\n",
      "|      Hunts Point|Entire home/apt|      150|\n",
      "+-----------------+---------------+---------+\n",
      "only showing top 20 rows\n",
      "\n"
     ]
    }
   ],
   "source": [
    "df_neighbourhood_room_type.show()"
   ]
  },
  {
   "cell_type": "code",
   "execution_count": 66,
   "metadata": {
    "colab": {
     "base_uri": "https://localhost:8080/",
     "height": 956
    },
    "colab_type": "code",
    "id": "JktqT6oFxdnF",
    "outputId": "dd81dd7a-dde0-43f8-e835-db65fecf4f56"
   },
   "outputs": [],
   "source": [
    "#pivot operation \n",
    "df_neighbourhood_room_type = df_neighbourhood_room_type.groupby('neighbourhood').pivot('room_type').sum('price_sum')"
   ]
  },
  {
   "cell_type": "code",
   "execution_count": 67,
   "metadata": {
    "colab": {},
    "colab_type": "code",
    "id": "TflVilC60aHr"
   },
   "outputs": [
    {
     "name": "stdout",
     "output_type": "stream",
     "text": [
      "+------------------+---------------+------------+\n",
      "|     neighbourhood|Entire home/apt|Private room|\n",
      "+------------------+---------------+------------+\n",
      "|            Corona|           1549|        1485|\n",
      "|      Prince's Bay|           1520|         118|\n",
      "|      Richmondtown|             78|        null|\n",
      "|        Mill Basin|            719|        null|\n",
      "|       Westerleigh|            103|          40|\n",
      "|      Civic Center|           7925|        2056|\n",
      "|        Douglaston|            402|         215|\n",
      "|        Mount Hope|           1079|         471|\n",
      "|       Marble Hill|            459|         611|\n",
      "|         Rego Park|           5085|        3486|\n",
      "|     Dyker Heights|            804|         278|\n",
      "| Kew Gardens Hills|           2052|         868|\n",
      "|      Dongan Hills|            405|         151|\n",
      "|       Bay Terrace|            631|         189|\n",
      "|Financial District|         138853|       26831|\n",
      "|           Bayside|           4616|        1544|\n",
      "|   Jackson Heights|           7232|        7137|\n",
      "|           Midtown|         330364|      103149|\n",
      "|    Hell's Kitchen|         301786|       88597|\n",
      "|        Highbridge|            753|        1167|\n",
      "+------------------+---------------+------------+\n",
      "only showing top 20 rows\n",
      "\n"
     ]
    }
   ],
   "source": [
    "df_neighbourhood_room_type.show()"
   ]
  },
  {
   "cell_type": "code",
   "execution_count": 68,
   "metadata": {
    "colab": {},
    "colab_type": "code",
    "id": "J8AOXH_M088B"
   },
   "outputs": [
    {
     "name": "stdout",
     "output_type": "stream",
     "text": [
      "+-------------+---------------+------------+\n",
      "|neighbourhood|Entire home/apt|Private room|\n",
      "+-------------+---------------+------------+\n",
      "| Williamsburg|         389426|      170841|\n",
      "+-------------+---------------+------------+\n",
      "only showing top 1 row\n",
      "\n"
     ]
    }
   ],
   "source": [
    "#Maximum revenue in Private Rooms\n",
    "df_neighbourhood_room_type.orderBy('Private room', ascending=False).show(1)"
   ]
  },
  {
   "cell_type": "code",
   "execution_count": 69,
   "metadata": {
    "colab": {},
    "colab_type": "code",
    "id": "W75DPPFH1P2v"
   },
   "outputs": [],
   "source": [
    "df_min = df_neighbourhood_room_type.orderBy('Private room', ascending=True)"
   ]
  },
  {
   "cell_type": "code",
   "execution_count": 70,
   "metadata": {
    "colab": {},
    "colab_type": "code",
    "id": "t6I052_y60HE"
   },
   "outputs": [
    {
     "name": "stdout",
     "output_type": "stream",
     "text": [
      "+-------------+---------------+------------+\n",
      "|neighbourhood|Entire home/apt|Private room|\n",
      "+-------------+---------------+------------+\n",
      "| Graniteville|            186|          20|\n",
      "+-------------+---------------+------------+\n",
      "only showing top 1 row\n",
      "\n"
     ]
    }
   ],
   "source": [
    "#Minimum revenue in Private Rooms after filetering out null values\n",
    "df_min[df_min['Private room'].isNotNull()].show(1)"
   ]
  },
  {
   "cell_type": "code",
   "execution_count": 71,
   "metadata": {
    "colab": {},
    "colab_type": "code",
    "id": "OxkzVHaa1ajz"
   },
   "outputs": [
    {
     "name": "stdout",
     "output_type": "stream",
     "text": [
      "+-------------+---------------+------------+\n",
      "|neighbourhood|Entire home/apt|Private room|\n",
      "+-------------+---------------+------------+\n",
      "|     New Dorp|             57|        null|\n",
      "+-------------+---------------+------------+\n",
      "only showing top 1 row\n",
      "\n"
     ]
    }
   ],
   "source": [
    "##minimum revenue in Entire home/apt Rooms\n",
    "df_neighbourhood_room_type.orderBy('Entire home/apt', ascending=True).filter(df_neighbourhood_room_type['Entire home/apt'].isNotNull()).show(1)"
   ]
  },
  {
   "cell_type": "code",
   "execution_count": 72,
   "metadata": {
    "colab": {},
    "colab_type": "code",
    "id": "wMXxz_Wv1lBm"
   },
   "outputs": [
    {
     "name": "stdout",
     "output_type": "stream",
     "text": [
      "+-------------+---------------+------------+\n",
      "|neighbourhood|Entire home/apt|Private room|\n",
      "+-------------+---------------+------------+\n",
      "| Williamsburg|         389426|      170841|\n",
      "+-------------+---------------+------------+\n",
      "only showing top 1 row\n",
      "\n"
     ]
    }
   ],
   "source": [
    "###maximum revenue in Entire home/apt Rooms\n",
    "\n",
    "df_neighbourhood_room_type.orderBy('Entire home/apt', ascending=False).show(1)"
   ]
  },
  {
   "cell_type": "markdown",
   "metadata": {
    "colab_type": "text",
    "id": "h8G2q0kT8N6Q"
   },
   "source": [
    "**Calculating the average price income for private rooms and entire homes for each of the neighbourhoods\n",
    "**"
   ]
  },
  {
   "cell_type": "code",
   "execution_count": 73,
   "metadata": {
    "colab": {},
    "colab_type": "code",
    "id": "Tpo6zAgi1vDL"
   },
   "outputs": [],
   "source": [
    "df_neighbourhood_room_type_mean = df.filter(df['room_type'] != 'Shared room')"
   ]
  },
  {
   "cell_type": "code",
   "execution_count": 74,
   "metadata": {
    "colab": {},
    "colab_type": "code",
    "id": "TXgvtZje_Xj5"
   },
   "outputs": [],
   "source": [
    "df_neighbourhood_room_type_mean = df_neighbourhood_room_type_mean.groupby('neighbourhood','room_type').agg(func.mean('price').alias('average_region_price'))"
   ]
  },
  {
   "cell_type": "code",
   "execution_count": 75,
   "metadata": {
    "colab": {},
    "colab_type": "code",
    "id": "GYpgd18ID57T"
   },
   "outputs": [],
   "source": [
    "df_neighbourhood_room_type_mean_pivot = df_neighbourhood_room_type_mean.groupby('neighbourhood').pivot('room_type').sum('average_region_price')"
   ]
  },
  {
   "cell_type": "code",
   "execution_count": 76,
   "metadata": {
    "colab": {},
    "colab_type": "code",
    "id": "AQpr3C_ucg2e"
   },
   "outputs": [
    {
     "name": "stdout",
     "output_type": "stream",
     "text": [
      "+------------------+------------------+------------------+\n",
      "|     neighbourhood|   Entire home/apt|      Private room|\n",
      "+------------------+------------------+------------------+\n",
      "|            Corona|119.15384615384616|              55.0|\n",
      "|      Prince's Bay| 506.6666666666667|             118.0|\n",
      "|      Richmondtown|              78.0|              null|\n",
      "|        Mill Basin|            179.75|              null|\n",
      "|       Westerleigh|             103.0|              40.0|\n",
      "|      Civic Center|226.42857142857142|120.94117647058823|\n",
      "|        Douglaston|             134.0|             53.75|\n",
      "|        Mount Hope|             107.9|              47.1|\n",
      "|       Marble Hill|              91.8| 87.28571428571429|\n",
      "|         Rego Park|           127.125| 59.08474576271186|\n",
      "|     Dyker Heights|114.85714285714286|              69.5|\n",
      "| Kew Gardens Hills|120.70588235294117| 96.44444444444444|\n",
      "|      Dongan Hills|            101.25|50.333333333333336|\n",
      "|       Bay Terrace|210.33333333333334|              94.5|\n",
      "|Financial District|            242.75|165.62345679012347|\n",
      "|           Bayside| 355.0769230769231| 59.38461538461539|\n",
      "|   Jackson Heights| 124.6896551724138|63.723214285714285|\n",
      "|           Midtown| 301.4270072992701|244.42890995260663|\n",
      "|    Hell's Kitchen|254.24262847514743|133.02852852852854|\n",
      "|        Highbridge|107.57142857142857|             58.35|\n",
      "+------------------+------------------+------------------+\n",
      "only showing top 20 rows\n",
      "\n"
     ]
    }
   ],
   "source": [
    "df_neighbourhood_room_type_mean_pivot.show()"
   ]
  },
  {
   "cell_type": "code",
   "execution_count": 77,
   "metadata": {
    "colab": {},
    "colab_type": "code",
    "id": "UlWxDy76IfqW"
   },
   "outputs": [],
   "source": [
    "df_neighbourhood_room_type_mean_pivot = df_neighbourhood_room_type_mean_pivot.toPandas()"
   ]
  },
  {
   "cell_type": "code",
   "execution_count": 78,
   "metadata": {
    "colab": {},
    "colab_type": "code",
    "id": "eVrm0NytIZQj"
   },
   "outputs": [
    {
     "data": {
      "text/plain": [
       "<Figure size 2160x720 with 0 Axes>"
      ]
     },
     "metadata": {},
     "output_type": "display_data"
    },
    {
     "data": {
      "image/png": "[encoded data removed]",
      "text/plain": [
       "<Figure size 432x288 with 1 Axes>"
      ]
     },
     "metadata": {
      "needs_background": "light"
     },
     "output_type": "display_data"
    }
   ],
   "source": [
    "#Plotting \n",
    "plt.figure(figsize=(30, 10))\n",
    "labels = []\n",
    "import matplotlib.pyplot as plt\n",
    "ax=df_neighbourhood_room_type_mean_pivot.sort_values('Private room', ascending=False).head().plot(kind='bar', width = 0.5)\n",
    "ax.set_xlabel('neighbourhood', fontsize = 20)\n",
    "ax.set_ylabel('average_price', fontsize = 20)\n",
    "fig_size = plt.rcParams[\"figure.figsize\"]\n",
    "fig_size[0] = 20\n",
    "fig_size[1] = 10\n",
    "a = [item.get_text() for item in ax.get_xticklabels()]  #to get labels as they are coming as index\n",
    "for i in a:\n",
    "  labels.append(df_neighbourhood_room_type_mean_pivot['neighbourhood'][int(i)])\n",
    "ax.set_xticklabels(labels)  #setting xticks as neighbourhood name\n",
    "ax = plt.gca()\n",
    "for tick in ax.xaxis.get_major_ticks():\n",
    "    tick.label.set_fontsize(20) \n",
    "    tick.label.set_rotation('horizontal')\n",
    "for tick in ax.yaxis.get_major_ticks():\n",
    "    tick.label.set_fontsize(16)     \n",
    "plt.rcParams[\"figure.figsize\"] = fig_size\n",
    "plt.legend(prop={'size':'15'})\n",
    "plt.show(ax)"
   ]
  },
  {
   "cell_type": "markdown",
   "metadata": {
    "colab_type": "text",
    "id": "mElBmgZJk1EX"
   },
   "source": [
    "**Creating a column depicting relative price difference of that host with respect to the neighbourhood’s average pricing.**\n"
   ]
  },
  {
   "cell_type": "code",
   "execution_count": 79,
   "metadata": {
    "colab": {},
    "colab_type": "code",
    "id": "Ehw0mxU-kHiF"
   },
   "outputs": [],
   "source": [
    "df = df.join(df_neighbourhood_room_type_mean,['neighbourhood','room_type'],'left')"
   ]
  },
  {
   "cell_type": "code",
   "execution_count": 80,
   "metadata": {
    "colab": {},
    "colab_type": "code",
    "id": "J65U2zI_nYhe"
   },
   "outputs": [
    {
     "name": "stdout",
     "output_type": "stream",
     "text": [
      "+-------------+------------+---------+--------+--------------------+---------+-------------------+--------+---------+-----+--------------+-----------------+-----------+-----------------+------------------------------+----------------+----------------+-----------------------------+--------------------+\n",
      "|neighbourhood|   room_type|  host_id|      id|                name|host_name|neighbourhood_group|latitude|longitude|price|minimum_nights|number_of_reviews|last_review|reviews_per_month|calculated_host_listings_count|availability_365|popularity_index|host_neighbourhood_popularity|average_region_price|\n",
      "+-------------+------------+---------+--------+--------------------+---------+-------------------+--------+---------+-----+--------------+-----------------+-----------+-----------------+------------------------------+----------------+----------------+-----------------------------+--------------------+\n",
      "|   Kensington|Private room|  6755111| 1239293|Cozy Retreat in B...|  Jessica|           Brooklyn| 40.6412| -73.9786|   75|             2|                8| 2014-01-07|             0.11|                             1|             312|     7.059293E-4|                   0.26917902|   59.37755102040816|\n",
      "|   Kensington|Private room|158338077|21739264|   423 ocean parkway| Muhammad|           Brooklyn|40.63929| -73.9718|   67|             1|               29| 2019-06-16|             1.79|                             2|             143|    0.0034414052|                    1.3122476|   59.37755102040816|\n",
      "|   Kensington|Private room|158338077|26298570|Private Room in b...| Muhammad|           Brooklyn|40.63743|-73.97229|   67|             1|               10| 2019-04-28|             0.83|                             2|             365|    0.0034414052|                    1.3122476|   59.37755102040816|\n",
      "|   Kensington|Private room| 29642992| 5717674|Welcome to Brooklyn!|  Annalyn|           Brooklyn|40.63694|-73.97487|   70|             3|                8| 2016-10-18|             0.17|                             1|               0|     7.059293E-4|                   0.26917902|   59.37755102040816|\n",
      "|   Kensington|Private room| 41484943|35229312|Sunny Spacious NY...|  Melissa|           Brooklyn|40.63506| -73.9744|   55|             1|                2| 2019-06-30|              2.0|                             2|              18|    1.7648232E-4|                  0.067294754|   59.37755102040816|\n",
      "|   Kensington|Private room| 41484943|36142215|SUMMER RENTAL IN ...|  Melissa|           Brooklyn|40.63676|-73.97448|   54|             7|                0|       null|             null|                             2|             225|    1.7648232E-4|                  0.067294754|   59.37755102040816|\n",
      "|   Kensington|Private room| 12212944| 5523413| Oasis in Kensington|   Janine|           Brooklyn|40.64321|-73.98294|   52|             3|                8| 2019-05-18|             0.15|                             2|              27|     7.941704E-4|                   0.30282637|   59.37755102040816|\n",
      "|   Kensington|Private room| 12212944| 5771655|Brooklyn Bargain ...|   Janine|           Brooklyn|40.64455|-73.98298|   30|            21|                1| 2015-06-19|             0.02|                             2|               1|     7.941704E-4|                   0.30282637|   59.37755102040816|\n",
      "|   Kensington|Private room| 14905006|24122599|Cozy room in a Vi...|   Myriam|           Brooklyn|40.63966| -73.9716|   52|             1|               11| 2019-05-27|             0.81|                             1|               0|    9.7065273E-4|                   0.37012112|   59.37755102040816|\n",
      "|   Kensington|Private room|  5725732|14091525|Large room with A...|    Scott|           Brooklyn|40.64023| -73.9717|   30|             2|                1| 2016-08-05|             0.03|                             1|               0|     8.824116E-5|                  0.033647377|   59.37755102040816|\n",
      "|   Kensington|Private room| 35746135|26494942|Beautiful Room In...|   Lionel|           Brooklyn|40.62896|-73.97494|   70|             1|               34| 2019-07-01|             2.74|                             2|               1|    0.0037943698|                    1.1440108|   59.37755102040816|\n",
      "|   Kensington|Private room|119680716|20147886|Nice clean and qu...|    Petar|           Brooklyn| 40.6368|-73.96857|   35|             1|                6| 2017-08-26|             0.26|                             1|               0|    5.2944693E-4|                   0.20188425|   59.37755102040816|\n",
      "|   Kensington|Private room|131806850|23229152|Private 1 bedroom...|    Idara|           Brooklyn|40.64109|-73.97503|   50|             1|                1| 2018-03-14|             0.06|                             1|               0|     8.824116E-5|                  0.033647377|   59.37755102040816|\n",
      "|   Kensington|Private room| 50369736| 9768765|Room in quiet Bro...| Benjamin|           Brooklyn|40.64637|-73.97863|   24|            18|                1| 2016-01-29|             0.02|                             1|               0|     8.824116E-5|                  0.033647377|   59.37755102040816|\n",
      "|   Kensington|Private room|  2228137|11096888|Peaceful apartmen...|   Amanda|           Brooklyn|40.64779|-73.97956|   45|           500|                0|       null|             null|                             1|             358|             0.0|                          0.0|   59.37755102040816|\n",
      "|   Kensington|Private room|104813064|30584054|Sunny private roo...|     Kate|           Brooklyn|40.64637|-73.97593|   56|             1|                6| 2019-02-22|             0.88|                             1|               0|    5.2944693E-4|                   0.20188425|   59.37755102040816|\n",
      "|   Kensington|Private room|  4167027|26043335|Luminous and Spac...|      Jam|           Brooklyn|40.64595|-73.97578|   60|             5|                3| 2019-04-16|             0.45|                             1|             344|    2.6472347E-4|                   0.10094213|   59.37755102040816|\n",
      "|   Kensington|Private room|  3692257| 8130534|Lovely BR w/Acces...|    Tasia|           Brooklyn|40.64423|-73.98019|   49|             1|                1| 2015-11-05|             0.02|                             2|               0|    1.7648232E-4|                  0.067294754|   59.37755102040816|\n",
      "|   Kensington|Private room| 27751504|11549676|Spacious Room w p...|      Liz|           Brooklyn|40.63974|-73.97439|   35|            14|                2| 2018-04-30|             0.06|                             1|               0|    1.7648232E-4|                  0.067294754|   59.37755102040816|\n",
      "|   Kensington|Private room| 81329032|13814049|Subway accessible...|   Ashlee|           Brooklyn|40.64231|-73.97974|   50|             5|                0|       null|             null|                             1|               0|             0.0|                          0.0|   59.37755102040816|\n",
      "+-------------+------------+---------+--------+--------------------+---------+-------------------+--------+---------+-----+--------------+-----------------+-----------+-----------------+------------------------------+----------------+----------------+-----------------------------+--------------------+\n",
      "only showing top 20 rows\n",
      "\n"
     ]
    }
   ],
   "source": [
    "df.filter(df['neighbourhood'] == 'Kensington').show()"
   ]
  },
  {
   "cell_type": "code",
   "execution_count": 81,
   "metadata": {
    "colab": {},
    "colab_type": "code",
    "id": "K0oZJSrsq4p4"
   },
   "outputs": [],
   "source": [
    "#Filtering out null values for price\n",
    "temp1 = df.filter(df['price'].isNotNull())"
   ]
  },
  {
   "cell_type": "code",
   "execution_count": 82,
   "metadata": {
    "colab": {},
    "colab_type": "code",
    "id": "NNJ6FmfXrLF3"
   },
   "outputs": [],
   "source": [
    "#Filtering out null values for average_region_price\n",
    "temp1 = temp1.filter(temp1['average_region_price'].isNotNull())"
   ]
  },
  {
   "cell_type": "code",
   "execution_count": 83,
   "metadata": {
    "colab": {},
    "colab_type": "code",
    "id": "hNHxbbzcnzzd"
   },
   "outputs": [],
   "source": [
    "#Defining function and converting it to udf function for with column operation\n",
    "def func_divide1(a1,a2):\n",
    "  if(type(a1)=='NoneType' or type(a2)=='NoneType'):\n",
    "    ans = 0\n",
    "  elif(a1!=0):\n",
    "    ans = ((a1-a2)*100.0)/float(a1)\n",
    "  else:\n",
    "    ans = 0\n",
    "  return ans\n",
    "\n",
    "divide_func_sp1 = F.udf(func_divide1,FloatType())"
   ]
  },
  {
   "cell_type": "code",
   "execution_count": 84,
   "metadata": {
    "colab": {},
    "colab_type": "code",
    "id": "yQg-Q9cvnZ0S"
   },
   "outputs": [],
   "source": [
    "#withcolumn operation\n",
    "df = temp1.withColumn('region_price_margin',divide_func_sp1('price','average_region_price'))"
   ]
  },
  {
   "cell_type": "code",
   "execution_count": 85,
   "metadata": {
    "colab": {},
    "colab_type": "code",
    "id": "5yK6cxMtoung"
   },
   "outputs": [
    {
     "name": "stdout",
     "output_type": "stream",
     "text": [
      "+-----------------+---------------+---------+--------+--------------------+---------+-------------------+--------+---------+-----+--------------+-----------------+-----------+-----------------+------------------------------+----------------+----------------+-----------------------------+--------------------+-------------------+\n",
      "|    neighbourhood|      room_type|  host_id|      id|                name|host_name|neighbourhood_group|latitude|longitude|price|minimum_nights|number_of_reviews|last_review|reviews_per_month|calculated_host_listings_count|availability_365|popularity_index|host_neighbourhood_popularity|average_region_price|region_price_margin|\n",
      "+-----------------+---------------+---------+--------+--------------------+---------+-------------------+--------+---------+-----+--------------+-----------------+-----------+-----------------+------------------------------+----------------+----------------+-----------------------------+--------------------+-------------------+\n",
      "|Battery Park City|Entire home/apt|147351617|31803533|Beautiful Luxury ...|      Cem|          Manhattan|40.71085|-74.01801|  200|             2|               17| 2019-06-30|             3.05|                             1|              79|    0.0015000997|                    2.9310346|   488.5416666666667|         -144.27083|\n",
      "+-----------------+---------------+---------+--------+--------------------+---------+-------------------+--------+---------+-----+--------------+-----------------+-----------+-----------------+------------------------------+----------------+----------------+-----------------------------+--------------------+-------------------+\n",
      "only showing top 1 row\n",
      "\n"
     ]
    }
   ],
   "source": [
    "df.show(1)"
   ]
  },
  {
   "cell_type": "code",
   "execution_count": null,
   "metadata": {
    "colab": {},
    "colab_type": "code",
    "id": "-xdKzvaer8BL"
   },
   "outputs": [],
   "source": []
  }
 ],
 "metadata": {
  "colab": {
   "collapsed_sections": [
    "IOpoRIEFvmV6"
   ],
   "name": "Assignment_W2_jagmeet.ipynb",
   "provenance": []
  },
  "kernelspec": {
   "display_name": "Python 3 (ipykernel)",
   "language": "python",
   "name": "python3"
  },
  "language_info": {
   "codemirror_mode": {
    "name": "ipython",
    "version": 3
   },
   "file_extension": ".py",
   "mimetype": "text/x-python",
   "name": "python",
   "nbconvert_exporter": "python",
   "pygments_lexer": "ipython3",
   "version": "3.11.5"
  }
 },
 "nbformat": 4,
 "nbformat_minor": 1
}
